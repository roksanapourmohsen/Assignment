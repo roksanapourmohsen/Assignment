#All
import matplotlib.pyplot as plt
import leidenalg
import networkx
import igraph
import time
import community
import louvain
import numpy as np

n = 1000
tau1 = 2
tau2 = 1.5
mu = 0.1
G = networkx.generators.community.LFR_benchmark_graph(n, tau1, tau2, mu, average_degree=15, min_degree=None, max_degree=50,
                                min_community=20, max_community=80, tol=1e-07, max_iters=500, seed=None);
G2 = igraph.Graph.from_networkx(G)
communities = {frozenset(G.nodes[v]["community"]) for v in G}
Gm = networkx.algorithms.community.modularity(G,communities)
print("Graph modularity:",Gm)
c=list(communities)
L1= [x for x in range(n)]
for j in range(len(communities)):
 for i in range(len(c[j])):
  f=list(c[j])
  L1[f[i]]=j


#CNM
start1 = time.time()
CNMp=networkx.algorithms.community.greedy_modularity_communities(G)
end1 = time.time()
CNMm=networkx.algorithms.community.modularity(G, CNMp)
print("CNM modularity:",CNMm)
CNM_time = end1 - start1
print("CNM time:", CNM_time, "seconds")
c=list(CNMp)
L= [x for x in range(n)]
for j in range(len(CNMp)):
 for i in range(len(c[j])):
  f=list(c[j])
  L[f[i]]=j


NMI1=igraph.compare_communities(L,L1,method="nmi")
ARI1=igraph.compare_communities(L,L1,method="ari")
print("CNM NMI:", NMI1, " ,CNM ARI:", ARI1)






#leiden
start2 = time.time()
leidenp = leidenalg.find_partition(G2, leidenalg.ModularityVertexPartition);
end2 = time.time()
leidenm =G2.modularity(leidenp)
print("Leiden modularity:",leidenm)
Leiden_time = end2 - start2
print("Leiden time:", Leiden_time, "seconds")
NMI2=igraph.compare_communities(leidenp.membership,L1,method="nmi")
ARI2=igraph.compare_communities(leidenp.membership,L1,method="ari")
print("leiden NMI:", NMI2, " ,leiden ARI:", ARI2)


#louvain
start3 = time.time()
louvainp = G2.community_multilevel();
end3 = time.time()
louvainm = G2.modularity(louvainp)
print("Louvain modularity:",louvainm)
Louvain_time = end3 - start3
print("Louvain time:", Louvain_time, "seconds")
NMI3=igraph.compare_communities(louvainp.membership,L1,method="nmi")
ARI3=igraph.compare_communities(louvainp.membership,L1,method="ari")
print("louvain NMI:", NMI3, " ,louvain ARI:", ARI3)


##fastgreedy
start4 = time.time()
com=G2.community_fastgreedy()
FGp=com.as_clustering()
end4 = time.time()
FGm = G2.modularity(FGp)
print("FG modularity:",FGm)
FG_time = end4 - start4
print("FG time:",FG_time, "seconds")
NMI4=igraph.compare_communities(FGp.membership,L1,method="nmi")
ARI4=igraph.compare_communities(FGp.membership,L1,method="ari")
print("fastgreedy NMI:", NMI4, " ,fastgreedy ARI:", ARI4)

#leading_eigenvector
start5 = time.time()
eigenvectorp = G2.community_leading_eigenvector()
end5 = time.time()
eigenvectorm =G2.modularity(eigenvectorp)
print("eigenvector modularity:",eigenvectorm)
eigenvector_time = end5 - start5
print("eigenvector time:",eigenvector_time, "seconds")
NMI5=igraph.compare_communities(eigenvectorp.membership,L1,method="nmi")
ARI5=igraph.compare_communities(eigenvectorp.membership,L1,method="ari")
print("eigenvector NMI:", NMI5, " ,eigenvector ARI:", ARI5)


algorithm=("CNM","leiden","louvain","FG","eigenvector")
Processing_time=( CNM_time,Leiden_time,Louvain_time,FG_time,eigenvector_time)
Modularity=(CNMm,leidenm,louvainm,FGm,eigenvectorm)

y_pos = np.arange(len(algorithm))
plt.bar(y_pos,Processing_time, align='center', alpha=0.5)
plt.xticks(y_pos, algorithm)
plt.ylabel('Seconds')
plt.title('Running time')
plt.show()

plt.bar(y_pos,Modularity, align='center', alpha=0.5)
plt.xticks(y_pos, algorithm)
plt.ylabel('Modularity')
plt.title('algorithms Modularity')
plt.show()
