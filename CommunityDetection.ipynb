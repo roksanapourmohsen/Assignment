#All
import matplotlib.pyplot as plt
import leidenalg
import networkx
import igraph
import time
import community
import louvain
import numpy as np

n = 500
tau1 = 3
tau2 = 2
mu = 0.3
G = networkx.generators.community.LFR_benchmark_graph(n, tau1, tau2, mu, average_degree=30, min_degree=None, max_degree=None, min_community=50, max_community=None, tol=1e-07, max_iters=100, seed=None);
communities = {frozenset(G.nodes[v]["community"]) for v in G}
Gm=networkx.algorithms.community.modularity(G,communities)
print("Graph modularity:",Gm)

#CNM
start1 = time.time()
CNMp=networkx.algorithms.community.greedy_modularity_communities(G)
end1 = time.time()
CNMm=networkx.algorithms.community.modularity(G, CNMp)
print("CNM modularity:",CNMm)
CNM_time = end1 - start1
print("CNM time:", CNM_time, "seconds")


#leiden
G2 = igraph.Graph.from_networkx(G)
start2 = time.time()
leidenp = leidenalg.find_partition(G2, leidenalg.ModularityVertexPartition);
end2 = time.time()
leidenm = networkx.algorithms.community.modularity(G,leidenp)
print("Leiden modularity:",leidenm)
Leiden_time = end2 - start2
print("Leiden time:", Leiden_time, "seconds")

#louvain
start3 = time.time()
louvainp = louvain.find_partition(G2, louvain.ModularityVertexPartition);
end3 = time.time()
louvainm = networkx.algorithms.community.modularity(G,louvainp)
print("Louvain modularity:",louvainm)
Louvain_time = end3 - start3
print("Louvain time:", Louvain_time, "seconds")


algorithm=("CNM","leiden","louvain")
Processing_time=( CNM_time,Leiden_time,Louvain_time)
Modularity=(CNMm,leidenm,louvainm)

y_pos = np.arange(len(algorithm))
plt.bar(y_pos,Processing_time, align='center', alpha=0.5)
plt.xticks(y_pos, algorithm)
plt.ylabel('Seconds')
plt.title('algorithms processing time')
plt.show()


plt.bar(y_pos,Modularity, align='center', alpha=0.5)
plt.xticks(y_pos, algorithm)
plt.ylabel('Modularity')
plt.title('algorithms Modularity')
plt.show()
