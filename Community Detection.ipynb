{
 "cells": [
  {
   "cell_type": "code",
   "execution_count": 273,
   "id": "b859c940",
   "metadata": {
    "scrolled": true
   },
   "outputs": [
    {
     "name": "stdout",
     "output_type": "stream",
     "text": [
      "Graph modularity: 0.7954292393791783\n",
      "CNM modularity: 0.773149160433466\n",
      "CNM time: 1.6612520217895508 seconds\n",
      "CNM NMI: 0.9112800065989558  ,CNM ARI: 0.7874067106522834\n",
      "Leiden modularity: 0.7954292393791786\n",
      "Leiden time: 0.02601170539855957 seconds\n",
      "leiden NMI: 1.0  ,leiden ARI: 1.0\n",
      "Louvain modularity: 0.7954292393791785\n",
      "Louvain time: 0.00599980354309082 seconds\n",
      "louvain NMI: 1.0  ,louvain ARI: 1.0\n",
      "FG modularity: 0.7731491604334664\n",
      "FG time: 0.19027113914489746 seconds\n",
      "fastgreedy NMI: 0.9112800065989558  ,fastgreedy ARI: 0.7874067106522834\n",
      "eigenvector modularity: 0.5444736590416754\n",
      "eigenvector time: 0.21805596351623535 seconds\n",
      "eigenvector NMI: 0.7142999905664417  ,eigenvector ARI: 0.5381179541339118\n"
     ]
    },
    {
     "data": {
      "image/png": "[encoded data removed]",
      "text/plain": [
       "<Figure size 432x288 with 1 Axes>"
      ]
     },
     "metadata": {
      "needs_background": "light"
     },
     "output_type": "display_data"
    },
    {
     "data": {
      "image/png": "[encoded data removed]",
      "text/plain": [
       "<Figure size 432x288 with 1 Axes>"
      ]
     },
     "metadata": {
      "needs_background": "light"
     },
     "output_type": "display_data"
    }
   ],
   "source": [
    "#All\n",
    "import matplotlib.pyplot as plt\n",
    "import leidenalg\n",
    "import networkx\n",
    "import igraph\n",
    "import time\n",
    "import community\n",
    "import louvain\n",
    "import numpy as np\n",
    "\n",
    "n = 1000\n",
    "tau1 = 2\n",
    "tau2 = 1.5\n",
    "mu = 0.1\n",
    "G = networkx.generators.community.LFR_benchmark_graph(n, tau1, tau2, mu, average_degree=15, min_degree=None, max_degree=50,\n",
    "                                min_community=20, max_community=80, tol=1e-07, max_iters=500, seed=None);\n",
    "G2 = igraph.Graph.from_networkx(G)\n",
    "communities = {frozenset(G.nodes[v][\"community\"]) for v in G}\n",
    "Gm = networkx.algorithms.community.modularity(G,communities)\n",
    "print(\"Graph modularity:\",Gm)\n",
    "c=list(communities)\n",
    "L1= [x for x in range(n)]\n",
    "for j in range(len(communities)):\n",
    " for i in range(len(c[j])):\n",
    "  f=list(c[j])\n",
    "  L1[f[i]]=j\n",
    "\n",
    "\n",
    "#CNM\n",
    "start1 = time.time()\n",
    "CNMp=networkx.algorithms.community.greedy_modularity_communities(G)\n",
    "end1 = time.time()\n",
    "CNMm=networkx.algorithms.community.modularity(G, CNMp)\n",
    "print(\"CNM modularity:\",CNMm)\n",
    "CNM_time = end1 - start1\n",
    "print(\"CNM time:\", CNM_time, \"seconds\")\n",
    "c=list(CNMp)\n",
    "L= [x for x in range(n)]\n",
    "for j in range(len(CNMp)):\n",
    " for i in range(len(c[j])):\n",
    "  f=list(c[j])\n",
    "  L[f[i]]=j\n",
    "\n",
    "\n",
    "NMI1=igraph.compare_communities(L,L1,method=\"nmi\")\n",
    "ARI1=igraph.compare_communities(L,L1,method=\"ari\")\n",
    "print(\"CNM NMI:\", NMI1, \" ,CNM ARI:\", ARI1)\n",
    "\n",
    "\n",
    "\n",
    "\n",
    "\n",
    "\n",
    "#leiden\n",
    "start2 = time.time()\n",
    "leidenp = leidenalg.find_partition(G2, leidenalg.ModularityVertexPartition);\n",
    "end2 = time.time()\n",
    "leidenm =G2.modularity(leidenp)\n",
    "print(\"Leiden modularity:\",leidenm)\n",
    "Leiden_time = end2 - start2\n",
    "print(\"Leiden time:\", Leiden_time, \"seconds\")\n",
    "NMI2=igraph.compare_communities(leidenp.membership,L1,method=\"nmi\")\n",
    "ARI2=igraph.compare_communities(leidenp.membership,L1,method=\"ari\")\n",
    "print(\"leiden NMI:\", NMI2, \" ,leiden ARI:\", ARI2)\n",
    "\n",
    "\n",
    "#louvain\n",
    "start3 = time.time()\n",
    "louvainp = G2.community_multilevel();\n",
    "end3 = time.time()\n",
    "louvainm = G2.modularity(louvainp)\n",
    "print(\"Louvain modularity:\",louvainm)\n",
    "Louvain_time = end3 - start3\n",
    "print(\"Louvain time:\", Louvain_time, \"seconds\")\n",
    "NMI3=igraph.compare_communities(louvainp.membership,L1,method=\"nmi\")\n",
    "ARI3=igraph.compare_communities(louvainp.membership,L1,method=\"ari\")\n",
    "print(\"louvain NMI:\", NMI3, \" ,louvain ARI:\", ARI3)\n",
    "\n",
    "\n",
    "##fastgreedy\n",
    "start4 = time.time()\n",
    "com=G2.community_fastgreedy()\n",
    "FGp=com.as_clustering()\n",
    "end4 = time.time()\n",
    "FGm = G2.modularity(FGp)\n",
    "print(\"FG modularity:\",FGm)\n",
    "FG_time = end4 - start4\n",
    "print(\"FG time:\",FG_time, \"seconds\")\n",
    "NMI4=igraph.compare_communities(FGp.membership,L1,method=\"nmi\")\n",
    "ARI4=igraph.compare_communities(FGp.membership,L1,method=\"ari\")\n",
    "print(\"fastgreedy NMI:\", NMI4, \" ,fastgreedy ARI:\", ARI4)\n",
    "\n",
    "#leading_eigenvector\n",
    "start5 = time.time()\n",
    "eigenvectorp = G2.community_leading_eigenvector()\n",
    "end5 = time.time()\n",
    "eigenvectorm =G2.modularity(eigenvectorp)\n",
    "print(\"eigenvector modularity:\",eigenvectorm)\n",
    "eigenvector_time = end5 - start5\n",
    "print(\"eigenvector time:\",eigenvector_time, \"seconds\")\n",
    "NMI5=igraph.compare_communities(eigenvectorp.membership,L1,method=\"nmi\")\n",
    "ARI5=igraph.compare_communities(eigenvectorp.membership,L1,method=\"ari\")\n",
    "print(\"eigenvector NMI:\", NMI5, \" ,eigenvector ARI:\", ARI5)\n",
    "\n",
    "\n",
    "algorithm=(\"CNM\",\"leiden\",\"louvain\",\"FG\",\"eigenvector\")\n",
    "Processing_time=( CNM_time,Leiden_time,Louvain_time,FG_time,eigenvector_time)\n",
    "Modularity=(CNMm,leidenm,louvainm,FGm,eigenvectorm)\n",
    "\n",
    "y_pos = np.arange(len(algorithm))\n",
    "plt.bar(y_pos,Processing_time, align='center', alpha=0.5)\n",
    "plt.xticks(y_pos, algorithm)\n",
    "plt.ylabel('Seconds')\n",
    "plt.title('Running time')\n",
    "plt.show()\n",
    "\n",
    "plt.bar(y_pos,Modularity, align='center', alpha=0.5)\n",
    "plt.xticks(y_pos, algorithm)\n",
    "plt.ylabel('Modularity')\n",
    "plt.title('algorithms Modularity')\n",
    "plt.show()"
   ]
  },
  {
   "cell_type": "code",
   "execution_count": 269,
   "id": "0992ae58",
   "metadata": {},
   "outputs": [
    {
     "name": "stdout",
     "output_type": "stream",
     "text": [
      "[frozenset({0, 3, 5, 7, 14, 16, 18, 37, 38, 39, 40, 43, 48, 51, 59, 60, 64, 75, 76, 79, 85, 89, 90, 91}), frozenset({2, 13, 17, 20, 21, 22, 29, 33, 35, 41, 42, 46, 49, 57, 61, 67, 71, 72, 73, 74, 82, 84, 86}), frozenset({6, 11, 19, 23, 27, 28, 31, 47, 52, 55, 56, 62, 69, 70, 80, 83, 88, 93, 97, 98}), frozenset({32, 1, 66, 68, 12, 44, 78, 15, 81, 53, 54, 24, 25, 26, 92, 95}), frozenset({65, 34, 45, 77, 50, 87, 58, 30}), frozenset({4, 36, 8, 10, 94}), frozenset({96, 9, 99, 63})]\n",
      "[0, 3, 1, 0, 5, 0, 2, 0, 5, 6, 5, 2, 3, 1, 0, 3, 0, 1, 0, 2, 1, 1, 1, 2, 3, 3, 3, 2, 2, 1, 4, 2, 3, 1, 4, 1, 5, 0, 0, 0, 0, 1, 1, 0, 3, 4, 1, 2, 0, 1, 4, 0, 2, 3, 3, 2, 2, 1, 4, 0, 0, 1, 2, 6, 0, 4, 3, 1, 3, 2, 2, 1, 1, 1, 1, 0, 0, 4, 3, 0, 2, 3, 1, 2, 1, 0, 1, 4, 2, 0, 0, 0, 3, 2, 5, 3, 6, 2, 2, 6]\n"
     ]
    }
   ],
   "source": [
    "#CNM\n",
    "import networkx\n",
    "import igraph\n",
    "import numpy as np\n",
    "n = 100\n",
    "tau1 = 3\n",
    "tau2 = 1.5\n",
    "mu = 0\n",
    "G = networkx.generators.community.LFR_benchmark_graph(n, tau1, tau2, mu, average_degree=None, min_degree=5, max_degree=100, min_community=100, max_community=100, tol=1e-07, max_iters=300, seed=None);\n",
    "#sorted(c[0])\n",
    "CNMp=networkx.algorithms.community.greedy_modularity_communities(G)\n",
    "CNMm=networkx.algorithms.community.modularity(G, networkx.algorithms.community.greedy_modularity_communities(G))\n",
    "print(networkx.algorithms.community.greedy_modularity_communities(G))\n",
    "c=list(CNMp)\n",
    "L= [x for x in range(n)]\n",
    "for j in range(len(CNMp)):\n",
    " for i in range(len(c[j])):\n",
    "  f=list(c[j])\n",
    "  L[f[i]]=j\n",
    "print(L)\n",
    "\n"
   ]
  },
  {
   "cell_type": "code",
   "execution_count": 178,
   "id": "1074fe62",
   "metadata": {},
   "outputs": [
    {
     "name": "stdout",
     "output_type": "stream",
     "text": [
      "0.17084973144229101\n",
      "0.17084973144229104\n"
     ]
    }
   ],
   "source": [
    "#Dlib\n",
    "import networkx\n",
    "import igraph\n",
    "from cdlib import algorithms\n",
    "n = 100\n",
    "tau1 = 3\n",
    "tau2 = 1.5\n",
    "mu = 0\n",
    "G = networkx.generators.community.LFR_benchmark_graph(n, tau1, tau2, mu, average_degree=None, min_degree=5, max_degree=100, min_community=100, max_community=100, tol=1e-07, max_iters=300, seed=None);\n",
    "G2 = igraph.Graph.from_networkx(G)\n",
    "eigenvectorp = G2.community_leading_eigenvector()\n",
    "e1= networkx.algorithms.community.modularity(G,eigenvectorp)\n",
    "e2=G2.modularity(eigenvectorp)\n",
    "print(e1)\n",
    "print(e2)"
   ]
  },
  {
   "cell_type": "code",
   "execution_count": 208,
   "id": "b9e65453",
   "metadata": {},
   "outputs": [
    {
     "ename": "TypeError",
     "evalue": "unhashable type: 'set'",
     "output_type": "error",
     "traceback": [
      "\u001b[1;31m---------------------------------------------------------------------------\u001b[0m",
      "\u001b[1;31mTypeError\u001b[0m                                 Traceback (most recent call last)",
      "\u001b[1;32m<ipython-input-208-16dfb12161ff>\u001b[0m in \u001b[0;36m<module>\u001b[1;34m\u001b[0m\n\u001b[0;32m     16\u001b[0m                                 min_community=10, max_community=30, tol=1e-07, max_iters=500, seed=None);\n\u001b[0;32m     17\u001b[0m \u001b[0mcommunities\u001b[0m \u001b[1;33m=\u001b[0m \u001b[1;33m{\u001b[0m\u001b[0mfrozenset\u001b[0m\u001b[1;33m(\u001b[0m\u001b[0mG\u001b[0m\u001b[1;33m.\u001b[0m\u001b[0mnodes\u001b[0m\u001b[1;33m[\u001b[0m\u001b[0mv\u001b[0m\u001b[1;33m]\u001b[0m\u001b[1;33m[\u001b[0m\u001b[1;34m\"community\"\u001b[0m\u001b[1;33m]\u001b[0m\u001b[1;33m)\u001b[0m \u001b[1;32mfor\u001b[0m \u001b[0mv\u001b[0m \u001b[1;32min\u001b[0m \u001b[0mG\u001b[0m\u001b[1;33m}\u001b[0m\u001b[1;33m\u001b[0m\u001b[1;33m\u001b[0m\u001b[0m\n\u001b[1;32m---> 18\u001b[1;33m \u001b[0mmember\u001b[0m\u001b[1;33m=\u001b[0m\u001b[1;33m{\u001b[0m\u001b[0mfrozenset\u001b[0m\u001b[1;33m(\u001b[0m\u001b[1;33m[\u001b[0m\u001b[0mcommunities\u001b[0m\u001b[1;33m]\u001b[0m\u001b[1;33m)\u001b[0m\u001b[1;32mfor\u001b[0m \u001b[0mv\u001b[0m \u001b[1;32min\u001b[0m \u001b[0mG\u001b[0m\u001b[1;33m}\u001b[0m\u001b[1;33m\u001b[0m\u001b[1;33m\u001b[0m\u001b[0m\n\u001b[0m\u001b[0;32m     19\u001b[0m \u001b[0mprint\u001b[0m\u001b[1;33m(\u001b[0m\u001b[0mcommunities\u001b[0m\u001b[1;33m)\u001b[0m\u001b[1;33m\u001b[0m\u001b[1;33m\u001b[0m\u001b[0m\n\u001b[0;32m     20\u001b[0m \u001b[0mprint\u001b[0m\u001b[1;33m(\u001b[0m\u001b[0mmember\u001b[0m\u001b[1;33m)\u001b[0m\u001b[1;33m\u001b[0m\u001b[1;33m\u001b[0m\u001b[0m\n",
      "\u001b[1;32m<ipython-input-208-16dfb12161ff>\u001b[0m in \u001b[0;36m<setcomp>\u001b[1;34m(.0)\u001b[0m\n\u001b[0;32m     16\u001b[0m                                 min_community=10, max_community=30, tol=1e-07, max_iters=500, seed=None);\n\u001b[0;32m     17\u001b[0m \u001b[0mcommunities\u001b[0m \u001b[1;33m=\u001b[0m \u001b[1;33m{\u001b[0m\u001b[0mfrozenset\u001b[0m\u001b[1;33m(\u001b[0m\u001b[0mG\u001b[0m\u001b[1;33m.\u001b[0m\u001b[0mnodes\u001b[0m\u001b[1;33m[\u001b[0m\u001b[0mv\u001b[0m\u001b[1;33m]\u001b[0m\u001b[1;33m[\u001b[0m\u001b[1;34m\"community\"\u001b[0m\u001b[1;33m]\u001b[0m\u001b[1;33m)\u001b[0m \u001b[1;32mfor\u001b[0m \u001b[0mv\u001b[0m \u001b[1;32min\u001b[0m \u001b[0mG\u001b[0m\u001b[1;33m}\u001b[0m\u001b[1;33m\u001b[0m\u001b[1;33m\u001b[0m\u001b[0m\n\u001b[1;32m---> 18\u001b[1;33m \u001b[0mmember\u001b[0m\u001b[1;33m=\u001b[0m\u001b[1;33m{\u001b[0m\u001b[0mfrozenset\u001b[0m\u001b[1;33m(\u001b[0m\u001b[1;33m[\u001b[0m\u001b[0mcommunities\u001b[0m\u001b[1;33m]\u001b[0m\u001b[1;33m)\u001b[0m\u001b[1;32mfor\u001b[0m \u001b[0mv\u001b[0m \u001b[1;32min\u001b[0m \u001b[0mG\u001b[0m\u001b[1;33m}\u001b[0m\u001b[1;33m\u001b[0m\u001b[1;33m\u001b[0m\u001b[0m\n\u001b[0m\u001b[0;32m     19\u001b[0m \u001b[0mprint\u001b[0m\u001b[1;33m(\u001b[0m\u001b[0mcommunities\u001b[0m\u001b[1;33m)\u001b[0m\u001b[1;33m\u001b[0m\u001b[1;33m\u001b[0m\u001b[0m\n\u001b[0;32m     20\u001b[0m \u001b[0mprint\u001b[0m\u001b[1;33m(\u001b[0m\u001b[0mmember\u001b[0m\u001b[1;33m)\u001b[0m\u001b[1;33m\u001b[0m\u001b[1;33m\u001b[0m\u001b[0m\n",
      "\u001b[1;31mTypeError\u001b[0m: unhashable type: 'set'"
     ]
    }
   ],
   "source": [
    "#LFR\n",
    "import matplotlib.pyplot as plt\n",
    "import leidenalg\n",
    "import networkx\n",
    "import igraph\n",
    "import time\n",
    "import community\n",
    "import louvain\n",
    "import numpy as np\n",
    "\n",
    "n = 100\n",
    "tau1 = 2\n",
    "tau2 = 1.5\n",
    "mu = 0.1\n",
    "G = networkx.generators.community.LFR_benchmark_graph(n, tau1, tau2, mu, average_degree=5, min_degree=None, max_degree=20,\n",
    "                                min_community=10, max_community=30, tol=1e-07, max_iters=500, seed=None);\n",
    "communities = {frozenset(G.nodes[v][\"community\"]) for v in G}\n",
    "member={frozenset([communities])for v in G}\n",
    "print(communities)\n",
    "print(member)\n"
   ]
  },
  {
   "cell_type": "code",
   "execution_count": 201,
   "id": "1ee38680",
   "metadata": {},
   "outputs": [
    {
     "name": "stdout",
     "output_type": "stream",
     "text": [
      "Clustering with 100 elements and 6 clusters\n",
      "[0] 1, 3, 6, 9, 10, 11, 18, 21, 24, 27, 30, 32, 40, 41, 42, 57, 78, 80, 86,\n",
      "    91, 92\n",
      "[1] 2, 5, 14, 15, 16, 36, 39, 47, 52, 58, 62, 64, 67, 71, 75, 76, 85, 87, 90\n",
      "[2] 12, 23, 26, 31, 33, 34, 35, 38, 43, 46, 56, 61, 65, 66, 81, 83, 93, 97, 99\n",
      "[3] 7, 8, 19, 20, 45, 50, 51, 53, 63, 69, 70, 73, 74, 77, 88, 89, 94\n",
      "[4] 4, 13, 17, 22, 28, 29, 37, 44, 49, 54, 55, 59, 60, 95, 96\n",
      "[5] 0, 25, 48, 68, 72, 79, 82, 84, 98\n",
      "[5, 0, 1, 0, 4, 1, 0, 3, 3, 0, 0, 0, 2, 4, 1, 1, 1, 4, 0, 3, 3, 0, 4, 2, 0, 5, 2, 0, 4, 4, 0, 2, 0, 2, 2, 2, 1, 4, 2, 1, 0, 0, 0, 2, 4, 3, 2, 1, 5, 4, 3, 3, 1, 3, 4, 4, 2, 0, 1, 4, 4, 2, 1, 3, 1, 2, 2, 1, 5, 3, 3, 1, 5, 3, 3, 1, 1, 3, 0, 5, 0, 2, 5, 2, 5, 1, 0, 1, 3, 3, 1, 0, 0, 2, 3, 4, 4, 2, 5, 2]\n"
     ]
    }
   ],
   "source": [
    "#louvain\n",
    "import matplotlib.cm as cm\n",
    "import matplotlib.pyplot as plt\n",
    "import community\n",
    "import networkx \n",
    "import igraph \n",
    "import louvain\n",
    "n = 100\n",
    "tau1 = 3\n",
    "tau2 = 1.5\n",
    "mu = 0\n",
    "G = networkx.generators.community.LFR_benchmark_graph(n, tau1, tau2, mu, average_degree=None, min_degree=5, max_degree=100, min_community=100, max_community=100, tol=1e-07, max_iters=300, seed=None);\n",
    "G2 = igraph.Graph.from_networkx(G)\n",
    "Louvainp1 = louvain.find_partition(G2, louvain.ModularityVertexPartition);\n",
    "Louvainp2 = G2.community_multilevel();\n",
    "#Louvainp = community.best_partition(G)\n",
    "#louvainm = networkx.algorithms.community.modularity(G,louvainp)\n",
    "#print(Louvainp)\n",
    "print(Louvainp1)\n",
    "print(Louvainp1.membership)"
   ]
  },
  {
   "cell_type": "code",
   "execution_count": 186,
   "id": "d799417f",
   "metadata": {},
   "outputs": [
    {
     "name": "stdout",
     "output_type": "stream",
     "text": [
      "Clustering with 50 elements and 5 clusters\n",
      "[0] 0, 3, 5, 12, 15, 16, 23, 24, 29, 30, 33, 36, 38, 40, 42, 44\n",
      "[1] 1, 2, 7, 8, 11, 13, 17, 19, 20, 26, 31, 43\n",
      "[2] 22, 25, 27, 28, 32, 35, 41, 48, 49\n",
      "[3] 9, 10, 14, 34, 37, 39, 46\n",
      "[4] 4, 6, 18, 21, 45, 47\n",
      "Clustering with 50 elements and 6 clusters\n",
      "[0] 0, 2, 12, 23, 28, 29, 37\n",
      "[1] 1, 7, 8, 13, 17, 19, 20, 26, 31, 43\n",
      "[2] 3, 4, 5, 6, 9, 16, 18, 21, 45\n",
      "[3] 10, 24, 33, 34, 36, 40, 42, 44\n",
      "[4] 11, 15, 32, 39, 41, 46, 47, 48, 49\n",
      "[5] 14, 22, 25, 27, 30, 35, 38\n"
     ]
    }
   ],
   "source": [
    "#leidenalg\n",
    "import leidenalg\n",
    "import networkx \n",
    "import igraph \n",
    "n = 50\n",
    "tau1 = 3\n",
    "tau2 = 1.5\n",
    "mu = 0\n",
    "G = networkx.generators.community.LFR_benchmark_graph(n, tau1, tau2, mu, average_degree=None, min_degree=5, max_degree=50, min_community=50, max_community=50, tol=1e-07, max_iters=300, seed=None);\n",
    "G2 = igraph.Graph.from_networkx(G)\n",
    "leiden1 = leidenalg.find_partition(G2, leidenalg.ModularityVertexPartition);\n",
    "leiden2=G2.community_multilevel()\n",
    "print(leiden1)\n",
    "print(leiden2)"
   ]
  },
  {
   "cell_type": "code",
   "execution_count": 190,
   "id": "d3c7661a",
   "metadata": {},
   "outputs": [
    {
     "name": "stdout",
     "output_type": "stream",
     "text": [
      "Clustering with 50 elements and 5 clusters\n",
      "[0] 0, 3, 6, 7, 23, 25, 29, 41\n",
      "[1] 1, 2, 8, 9, 10, 13, 19, 21, 24, 30, 32, 43, 45\n",
      "[2] 4, 11, 14, 16, 22, 28, 31, 33, 39, 42, 46\n",
      "[3] 5, 12, 18, 20, 26, 27, 36, 40, 49\n",
      "[4] 15, 17, 34, 35, 37, 38, 44, 47, 48\n"
     ]
    }
   ],
   "source": [
    "#fastgreedy\n",
    "import leidenalg\n",
    "import networkx \n",
    "import igraph \n",
    "n = 50\n",
    "tau1 = 3\n",
    "tau2 = 1.5\n",
    "mu = 0\n",
    "G = networkx.generators.community.LFR_benchmark_graph(n, tau1, tau2, mu, average_degree=None, min_degree=5, max_degree=50, min_community=50, max_community=50, tol=1e-07, max_iters=300, seed=None);\n",
    "G2 = igraph.Graph.from_networkx(G)\n",
    "com=G2.community_fastgreedy()\n",
    "FGp=com.as_clustering()\n",
    "print(FGp)"
   ]
  },
  {
   "cell_type": "code",
   "execution_count": 41,
   "id": "01301ac7",
   "metadata": {},
   "outputs": [
    {
     "name": "stderr",
     "output_type": "stream",
     "text": [
      "UsageError: Cell magic `%%` not found.\n"
     ]
    }
   ],
   "source": [
    "%% https://towardsdatascience.com/community-detection-algorithms-9bd8951e7dae\n",
    "https://snap.stanford.edu/snappy/doc/reference/CommunityCNM.html\n",
    " https://github.com/zhiyzuo/python-modularity-maximization/tree/master/modularity_maximization\n",
    "    "
   ]
  },
  {
   "cell_type": "code",
   "execution_count": 5,
   "id": "b9d8f0d7",
   "metadata": {},
   "outputs": [
    {
     "ename": "ModuleNotFoundError",
     "evalue": "No module named 'snap'",
     "output_type": "error",
     "traceback": [
      "\u001b[1;31m---------------------------------------------------------------------------\u001b[0m",
      "\u001b[1;31mModuleNotFoundError\u001b[0m                       Traceback (most recent call last)",
      "\u001b[1;32m<ipython-input-5-517072c65e21>\u001b[0m in \u001b[0;36m<module>\u001b[1;34m\u001b[0m\n\u001b[1;32m----> 1\u001b[1;33m \u001b[1;32mimport\u001b[0m \u001b[0msnap\u001b[0m\u001b[1;33m\u001b[0m\u001b[1;33m\u001b[0m\u001b[0m\n\u001b[0m\u001b[0;32m      2\u001b[0m \u001b[1;33m\u001b[0m\u001b[0m\n\u001b[0;32m      3\u001b[0m \u001b[0mUGraph\u001b[0m \u001b[1;33m=\u001b[0m \u001b[0msnap\u001b[0m\u001b[1;33m.\u001b[0m\u001b[0mGenRndGnm\u001b[0m\u001b[1;33m(\u001b[0m\u001b[0msnap\u001b[0m\u001b[1;33m.\u001b[0m\u001b[0mTUNGraph\u001b[0m\u001b[1;33m,\u001b[0m \u001b[1;36m100\u001b[0m\u001b[1;33m,\u001b[0m \u001b[1;36m1000\u001b[0m\u001b[1;33m)\u001b[0m\u001b[1;33m\u001b[0m\u001b[1;33m\u001b[0m\u001b[0m\n\u001b[0;32m      4\u001b[0m \u001b[0mmodularity\u001b[0m\u001b[1;33m,\u001b[0m \u001b[0mCmtyV\u001b[0m \u001b[1;33m=\u001b[0m \u001b[0mUGraph\u001b[0m\u001b[1;33m.\u001b[0m\u001b[0mCommunityCNM\u001b[0m\u001b[1;33m(\u001b[0m\u001b[1;33m)\u001b[0m\u001b[1;33m\u001b[0m\u001b[1;33m\u001b[0m\u001b[0m\n\u001b[0;32m      5\u001b[0m \u001b[1;32mfor\u001b[0m \u001b[0mCmty\u001b[0m \u001b[1;32min\u001b[0m \u001b[0mCmtyV\u001b[0m\u001b[1;33m:\u001b[0m\u001b[1;33m\u001b[0m\u001b[1;33m\u001b[0m\u001b[0m\n",
      "\u001b[1;31mModuleNotFoundError\u001b[0m: No module named 'snap'"
     ]
    }
   ],
   "source": [
    "import snap\n",
    "\n",
    "UGraph = snap.GenRndGnm(snap.TUNGraph, 100, 1000)\n",
    "modularity, CmtyV = UGraph.CommunityCNM()\n",
    "for Cmty in CmtyV:\n",
    "    print(\"Community: \")\n",
    "    for NI in Cmty:\n",
    "        print(NI)\n",
    "print(\"The modularity of the network is %f\" % modularity)"
   ]
  },
  {
   "cell_type": "code",
   "execution_count": 6,
   "id": "e7dd346b",
   "metadata": {},
   "outputs": [
    {
     "ename": "ModuleNotFoundError",
     "evalue": "No module named 'modularity_maximization'",
     "output_type": "error",
     "traceback": [
      "\u001b[1;31m---------------------------------------------------------------------------\u001b[0m",
      "\u001b[1;31mModuleNotFoundError\u001b[0m                       Traceback (most recent call last)",
      "\u001b[1;32m<ipython-input-6-756d365240a6>\u001b[0m in \u001b[0;36m<module>\u001b[1;34m\u001b[0m\n\u001b[1;32m----> 1\u001b[1;33m \u001b[1;32mfrom\u001b[0m \u001b[0mmodularity_maximization\u001b[0m\u001b[1;33m.\u001b[0m\u001b[0mcommunity_newman\u001b[0m \u001b[1;32mimport\u001b[0m \u001b[0mpartition\u001b[0m\u001b[1;33m\u001b[0m\u001b[1;33m\u001b[0m\u001b[0m\n\u001b[0m\u001b[0;32m      2\u001b[0m \u001b[1;32mfrom\u001b[0m \u001b[0mmodularity_maximization\u001b[0m\u001b[1;33m.\u001b[0m\u001b[0mutils\u001b[0m \u001b[1;32mimport\u001b[0m \u001b[0mget_modularity\u001b[0m\u001b[1;33m\u001b[0m\u001b[1;33m\u001b[0m\u001b[0m\n",
      "\u001b[1;31mModuleNotFoundError\u001b[0m: No module named 'modularity_maximization'"
     ]
    }
   ],
   "source": [
    "\n",
    "from modularity_maximization.community_newman import partition\n",
    "from modularity_maximization.utils import get_modularity"
   ]
  },
  {
   "cell_type": "code",
   "execution_count": 65,
   "id": "768adf70",
   "metadata": {},
   "outputs": [
    {
     "ename": "NetworkXError",
     "evalue": "random_state_index is incorrect",
     "output_type": "error",
     "traceback": [
      "\u001b[1;31m---------------------------------------------------------------------------\u001b[0m",
      "\u001b[1;31mIndexError\u001b[0m                                Traceback (most recent call last)",
      "\u001b[1;32m~\\anaconda3\\lib\\site-packages\\networkx\\utils\\decorators.py\u001b[0m in \u001b[0;36m_random_state\u001b[1;34m(func, *args, **kwargs)\u001b[0m\n\u001b[0;32m    456\u001b[0m         \u001b[1;32mtry\u001b[0m\u001b[1;33m:\u001b[0m\u001b[1;33m\u001b[0m\u001b[1;33m\u001b[0m\u001b[0m\n\u001b[1;32m--> 457\u001b[1;33m             \u001b[0mrandom_state_arg\u001b[0m \u001b[1;33m=\u001b[0m \u001b[0margs\u001b[0m\u001b[1;33m[\u001b[0m\u001b[0mrandom_state_index\u001b[0m\u001b[1;33m]\u001b[0m\u001b[1;33m\u001b[0m\u001b[1;33m\u001b[0m\u001b[0m\n\u001b[0m\u001b[0;32m    458\u001b[0m         \u001b[1;32mexcept\u001b[0m \u001b[0mTypeError\u001b[0m \u001b[1;32mas\u001b[0m \u001b[0me\u001b[0m\u001b[1;33m:\u001b[0m\u001b[1;33m\u001b[0m\u001b[1;33m\u001b[0m\u001b[0m\n",
      "\u001b[1;31mIndexError\u001b[0m: tuple index out of range",
      "\nThe above exception was the direct cause of the following exception:\n",
      "\u001b[1;31mNetworkXError\u001b[0m                             Traceback (most recent call last)",
      "\u001b[1;32m<ipython-input-65-6254b02b095d>\u001b[0m in \u001b[0;36m<module>\u001b[1;34m\u001b[0m\n\u001b[0;32m      1\u001b[0m \u001b[1;32mimport\u001b[0m \u001b[0mcommunity\u001b[0m \u001b[1;32mas\u001b[0m \u001b[0mcommunity_louvain\u001b[0m\u001b[1;33m\u001b[0m\u001b[1;33m\u001b[0m\u001b[0m\n\u001b[0;32m      2\u001b[0m \u001b[1;32mimport\u001b[0m \u001b[0mnetworkx\u001b[0m \u001b[1;32mas\u001b[0m \u001b[0mnx\u001b[0m\u001b[1;33m\u001b[0m\u001b[1;33m\u001b[0m\u001b[0m\n\u001b[1;32m----> 3\u001b[1;33m \u001b[0mG\u001b[0m \u001b[1;33m=\u001b[0m \u001b[0mnx\u001b[0m\u001b[1;33m.\u001b[0m\u001b[0merdos_renyi_graph\u001b[0m\u001b[1;33m(\u001b[0m\u001b[1;36m100\u001b[0m\u001b[1;33m,\u001b[0m \u001b[1;36m0.01\u001b[0m\u001b[1;33m)\u001b[0m\u001b[1;33m\u001b[0m\u001b[1;33m\u001b[0m\u001b[0m\n\u001b[0m\u001b[0;32m      4\u001b[0m \u001b[1;31m#partition = community_louvain.best_partition(G)\u001b[0m\u001b[1;33m\u001b[0m\u001b[1;33m\u001b[0m\u001b[1;33m\u001b[0m\u001b[0m\n\u001b[0;32m      5\u001b[0m \u001b[1;33m\u001b[0m\u001b[0m\n",
      "\u001b[1;32m~\\anaconda3\\lib\\site-packages\\decorator.py\u001b[0m in \u001b[0;36mfun\u001b[1;34m(*args, **kw)\u001b[0m\n\u001b[0;32m    229\u001b[0m             \u001b[1;32mif\u001b[0m \u001b[1;32mnot\u001b[0m \u001b[0mkwsyntax\u001b[0m\u001b[1;33m:\u001b[0m\u001b[1;33m\u001b[0m\u001b[1;33m\u001b[0m\u001b[0m\n\u001b[0;32m    230\u001b[0m                 \u001b[0margs\u001b[0m\u001b[1;33m,\u001b[0m \u001b[0mkw\u001b[0m \u001b[1;33m=\u001b[0m \u001b[0mfix\u001b[0m\u001b[1;33m(\u001b[0m\u001b[0margs\u001b[0m\u001b[1;33m,\u001b[0m \u001b[0mkw\u001b[0m\u001b[1;33m,\u001b[0m \u001b[0msig\u001b[0m\u001b[1;33m)\u001b[0m\u001b[1;33m\u001b[0m\u001b[1;33m\u001b[0m\u001b[0m\n\u001b[1;32m--> 231\u001b[1;33m             \u001b[1;32mreturn\u001b[0m \u001b[0mcaller\u001b[0m\u001b[1;33m(\u001b[0m\u001b[0mfunc\u001b[0m\u001b[1;33m,\u001b[0m \u001b[1;33m*\u001b[0m\u001b[1;33m(\u001b[0m\u001b[0mextras\u001b[0m \u001b[1;33m+\u001b[0m \u001b[0margs\u001b[0m\u001b[1;33m)\u001b[0m\u001b[1;33m,\u001b[0m \u001b[1;33m**\u001b[0m\u001b[0mkw\u001b[0m\u001b[1;33m)\u001b[0m\u001b[1;33m\u001b[0m\u001b[1;33m\u001b[0m\u001b[0m\n\u001b[0m\u001b[0;32m    232\u001b[0m     \u001b[0mfun\u001b[0m\u001b[1;33m.\u001b[0m\u001b[0m__name__\u001b[0m \u001b[1;33m=\u001b[0m \u001b[0mfunc\u001b[0m\u001b[1;33m.\u001b[0m\u001b[0m__name__\u001b[0m\u001b[1;33m\u001b[0m\u001b[1;33m\u001b[0m\u001b[0m\n\u001b[0;32m    233\u001b[0m     \u001b[0mfun\u001b[0m\u001b[1;33m.\u001b[0m\u001b[0m__doc__\u001b[0m \u001b[1;33m=\u001b[0m \u001b[0mfunc\u001b[0m\u001b[1;33m.\u001b[0m\u001b[0m__doc__\u001b[0m\u001b[1;33m\u001b[0m\u001b[1;33m\u001b[0m\u001b[0m\n",
      "\u001b[1;32m~\\anaconda3\\lib\\site-packages\\networkx\\utils\\decorators.py\u001b[0m in \u001b[0;36m_random_state\u001b[1;34m(func, *args, **kwargs)\u001b[0m\n\u001b[0;32m    459\u001b[0m             \u001b[1;32mraise\u001b[0m \u001b[0mnx\u001b[0m\u001b[1;33m.\u001b[0m\u001b[0mNetworkXError\u001b[0m\u001b[1;33m(\u001b[0m\u001b[1;34m\"random_state_index must be an integer\"\u001b[0m\u001b[1;33m)\u001b[0m \u001b[1;32mfrom\u001b[0m \u001b[0me\u001b[0m\u001b[1;33m\u001b[0m\u001b[1;33m\u001b[0m\u001b[0m\n\u001b[0;32m    460\u001b[0m         \u001b[1;32mexcept\u001b[0m \u001b[0mIndexError\u001b[0m \u001b[1;32mas\u001b[0m \u001b[0me\u001b[0m\u001b[1;33m:\u001b[0m\u001b[1;33m\u001b[0m\u001b[1;33m\u001b[0m\u001b[0m\n\u001b[1;32m--> 461\u001b[1;33m             \u001b[1;32mraise\u001b[0m \u001b[0mnx\u001b[0m\u001b[1;33m.\u001b[0m\u001b[0mNetworkXError\u001b[0m\u001b[1;33m(\u001b[0m\u001b[1;34m\"random_state_index is incorrect\"\u001b[0m\u001b[1;33m)\u001b[0m \u001b[1;32mfrom\u001b[0m \u001b[0me\u001b[0m\u001b[1;33m\u001b[0m\u001b[1;33m\u001b[0m\u001b[0m\n\u001b[0m\u001b[0;32m    462\u001b[0m \u001b[1;33m\u001b[0m\u001b[0m\n\u001b[0;32m    463\u001b[0m         \u001b[1;31m# Create a numpy.random.RandomState instance\u001b[0m\u001b[1;33m\u001b[0m\u001b[1;33m\u001b[0m\u001b[1;33m\u001b[0m\u001b[0m\n",
      "\u001b[1;31mNetworkXError\u001b[0m: random_state_index is incorrect"
     ]
    }
   ],
   "source": [
    "import community as community_louvain\n",
    "import networkx as nx\n",
    "G = nx.erdos_renyi_graph(100, 0.01)\n",
    "#partition = community_louvain.best_partition(G)\n",
    "\n"
   ]
  },
  {
   "cell_type": "code",
   "execution_count": null,
   "id": "6b0978bb",
   "metadata": {},
   "outputs": [],
   "source": []
  }
 ],
 "metadata": {
  "kernelspec": {
   "display_name": "Python 3",
   "language": "python",
   "name": "python3"
  },
  "language_info": {
   "codemirror_mode": {
    "name": "ipython",
    "version": 3
   },
   "file_extension": ".py",
   "mimetype": "text/x-python",
   "name": "python",
   "nbconvert_exporter": "python",
   "pygments_lexer": "ipython3",
   "version": "3.8.8"
  }
 },
 "nbformat": 4,
 "nbformat_minor": 5
}
